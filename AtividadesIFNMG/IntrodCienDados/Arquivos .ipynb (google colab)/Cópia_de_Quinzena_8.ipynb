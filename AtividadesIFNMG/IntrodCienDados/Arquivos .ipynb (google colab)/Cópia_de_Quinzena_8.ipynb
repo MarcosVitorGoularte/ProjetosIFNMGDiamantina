{
  "nbformat": 4,
  "nbformat_minor": 0,
  "metadata": {
    "colab": {
      "provenance": [],
      "toc_visible": true
    },
    "kernelspec": {
      "name": "python3",
      "display_name": "Python 3"
    },
    "language_info": {
      "name": "python"
    }
  },
  "cells": [
    {
      "cell_type": "code",
      "source": [
        "import matplotlib.pyplot as plt"
      ],
      "metadata": {
        "id": "XSdm11Qps9AL"
      },
      "execution_count": null,
      "outputs": []
    },
    {
      "cell_type": "code",
      "execution_count": null,
      "metadata": {
        "colab": {
          "base_uri": "https://localhost:8080/",
          "height": 1000
        },
        "id": "GK0BLC3ofWNH",
        "outputId": "92613b07-5c4d-4afe-be72-5f73074df65d"
      },
      "outputs": [
        {
          "output_type": "stream",
          "name": "stderr",
          "text": [
            "/usr/local/lib/python3.7/dist-packages/IPython/core/interactiveshell.py:3326: DtypeWarning: Columns (41) have mixed types.Specify dtype option on import or set low_memory=False.\n",
            "  exec(code_obj, self.user_global_ns, self.user_ns)\n"
          ]
        },
        {
          "output_type": "execute_result",
          "data": {
            "text/plain": [
              "       recordID orderCarni familyCarni scientificNameCarni commonNameCarni  \\\n",
              "0             1  Carnivora     Felidae    Acinonyx_jubatus         Cheetah   \n",
              "1             2  Carnivora     Felidae    Acinonyx_jubatus         Cheetah   \n",
              "2             3  Carnivora     Felidae    Acinonyx_jubatus         Cheetah   \n",
              "3             4  Carnivora     Felidae    Acinonyx_jubatus         Cheetah   \n",
              "4             5  Carnivora     Felidae    Acinonyx_jubatus         Cheetah   \n",
              "...         ...        ...         ...                 ...             ...   \n",
              "29116     29117  Carnivora     Canidae        Vulpes_zerda      Fennec fox   \n",
              "29117     29118  Carnivora     Canidae        Vulpes_zerda      Fennec fox   \n",
              "29118     29119  Carnivora     Canidae        Vulpes_zerda      Fennec fox   \n",
              "29119     29120  Carnivora     Canidae        Vulpes_zerda      Fennec fox   \n",
              "29120     29121  Carnivora     Canidae        Vulpes_zerda      Fennec fox   \n",
              "\n",
              "      sexCarni lifeStageCarni foodType        orderPrey familyPrey  ...  \\\n",
              "0         Both    Unspecified   Mammal  Cetartiodactyla    Bovidae  ...   \n",
              "1         Both    Unspecified   Mammal  Cetartiodactyla    Bovidae  ...   \n",
              "2         Both    Unspecified   Mammal  Cetartiodactyla    Bovidae  ...   \n",
              "3         Both    Unspecified   Mammal   Perissodactyla    Equidae  ...   \n",
              "4         Both    Unspecified   Mammal  Cetartiodactyla    Bovidae  ...   \n",
              "...        ...            ...      ...              ...        ...  ...   \n",
              "29116     Both    Unspecified   Mammal         Rodentia  Dipodidae  ...   \n",
              "29117     Both    Unspecified    Plant              NaN        NaN  ...   \n",
              "29118     Both    Unspecified     Bird              NaN        NaN  ...   \n",
              "29119     Both    Unspecified   Mammal         Rodentia  Dipodidae  ...   \n",
              "29120     Both    Unspecified   Mammal         Rodentia    Muridae  ...   \n",
              "\n",
              "      decimalLongitude georeferenceSources samplingProtocol  \\\n",
              "0            29.046635          GoogleMaps             Scat   \n",
              "1            29.046635          GoogleMaps             Scat   \n",
              "2            29.046635          GoogleMaps             Scat   \n",
              "3            29.046635          GoogleMaps             Scat   \n",
              "4            29.046635          GoogleMaps             Scat   \n",
              "...                ...                 ...              ...   \n",
              "29116        10.344028            Reported             Scat   \n",
              "29117        10.344028            Reported             Scat   \n",
              "29118        10.344028            Reported             Scat   \n",
              "29119        10.344028            Reported             Scat   \n",
              "29120        10.344028            Reported             Scat   \n",
              "\n",
              "           methodQuantification  sourceAuthor sourceYear  \\\n",
              "0      Occurrence in source (%)      Craig, C       2017   \n",
              "1      Occurrence in source (%)      Craig, C       2017   \n",
              "2      Occurrence in source (%)      Craig, C       2017   \n",
              "3      Occurrence in source (%)      Craig, C       2017   \n",
              "4      Occurrence in source (%)      Craig, C       2017   \n",
              "...                         ...           ...        ...   \n",
              "29116      Volume in source (%)   Karssene, Y       2019   \n",
              "29117      Volume in source (%)   Karssene, Y       2019   \n",
              "29118      Volume in source (%)   Karssene, Y       2019   \n",
              "29119      Volume in source (%)   Karssene, Y       2019   \n",
              "29120      Volume in source (%)   Karssene, Y       2019   \n",
              "\n",
              "                                             sourceTitle  \\\n",
              "0      A record of cheetah (Acinonyx jubatus) diet in...   \n",
              "1      A record of cheetah (Acinonyx jubatus) diet in...   \n",
              "2      A record of cheetah (Acinonyx jubatus) diet in...   \n",
              "3      A record of cheetah (Acinonyx jubatus) diet in...   \n",
              "4      A record of cheetah (Acinonyx jubatus) diet in...   \n",
              "...                                                  ...   \n",
              "29116  Spatial and temporal variability in the distri...   \n",
              "29117  Spatial and temporal variability in the distri...   \n",
              "29118  Spatial and temporal variability in the distri...   \n",
              "29119  Spatial and temporal variability in the distri...   \n",
              "29120  Spatial and temporal variability in the distri...   \n",
              "\n",
              "                    sourceJournal  \\\n",
              "0      African Journal of Ecology   \n",
              "1      African Journal of Ecology   \n",
              "2      African Journal of Ecology   \n",
              "3      African Journal of Ecology   \n",
              "4      African Journal of Ecology   \n",
              "...                           ...   \n",
              "29116           Mammalian Biology   \n",
              "29117           Mammalian Biology   \n",
              "29118           Mammalian Biology   \n",
              "29119           Mammalian Biology   \n",
              "29120           Mammalian Biology   \n",
              "\n",
              "                                  sourcePrimaryReference  \\\n",
              "0      Craig, Christie A., Eleanor I. Brassine, and D...   \n",
              "1      Craig, Christie A., Eleanor I. Brassine, and D...   \n",
              "2      Craig, Christie A., Eleanor I. Brassine, and D...   \n",
              "3      Craig, Christie A., Eleanor I. Brassine, and D...   \n",
              "4      Craig, Christie A., Eleanor I. Brassine, and D...   \n",
              "...                                                  ...   \n",
              "29116  Karssene, Yamna, et al. \"Spatial and temporal ...   \n",
              "29117  Karssene, Yamna, et al. \"Spatial and temporal ...   \n",
              "29118  Karssene, Yamna, et al. \"Spatial and temporal ...   \n",
              "29119  Karssene, Yamna, et al. \"Spatial and temporal ...   \n",
              "29120  Karssene, Yamna, et al. \"Spatial and temporal ...   \n",
              "\n",
              "                               sourceCollectionReference  \n",
              "0      Craig, Christie A., Eleanor I. Brassine, and D...  \n",
              "1      Craig, Christie A., Eleanor I. Brassine, and D...  \n",
              "2      Craig, Christie A., Eleanor I. Brassine, and D...  \n",
              "3      Craig, Christie A., Eleanor I. Brassine, and D...  \n",
              "4      Craig, Christie A., Eleanor I. Brassine, and D...  \n",
              "...                                                  ...  \n",
              "29116  Karssene, Yamna, et al. \"Spatial and temporal ...  \n",
              "29117  Karssene, Yamna, et al. \"Spatial and temporal ...  \n",
              "29118  Karssene, Yamna, et al. \"Spatial and temporal ...  \n",
              "29119  Karssene, Yamna, et al. \"Spatial and temporal ...  \n",
              "29120  Karssene, Yamna, et al. \"Spatial and temporal ...  \n",
              "\n",
              "[29121 rows x 53 columns]"
            ],
            "text/html": [
              "\n",
              "  <div id=\"df-2532e5f8-359a-4215-957a-0e2e16eade66\">\n",
              "    <div class=\"colab-df-container\">\n",
              "      <div>\n",
              "<style scoped>\n",
              "    .dataframe tbody tr th:only-of-type {\n",
              "        vertical-align: middle;\n",
              "    }\n",
              "\n",
              "    .dataframe tbody tr th {\n",
              "        vertical-align: top;\n",
              "    }\n",
              "\n",
              "    .dataframe thead th {\n",
              "        text-align: right;\n",
              "    }\n",
              "</style>\n",
              "<table border=\"1\" class=\"dataframe\">\n",
              "  <thead>\n",
              "    <tr style=\"text-align: right;\">\n",
              "      <th></th>\n",
              "      <th>recordID</th>\n",
              "      <th>orderCarni</th>\n",
              "      <th>familyCarni</th>\n",
              "      <th>scientificNameCarni</th>\n",
              "      <th>commonNameCarni</th>\n",
              "      <th>sexCarni</th>\n",
              "      <th>lifeStageCarni</th>\n",
              "      <th>foodType</th>\n",
              "      <th>orderPrey</th>\n",
              "      <th>familyPrey</th>\n",
              "      <th>...</th>\n",
              "      <th>decimalLongitude</th>\n",
              "      <th>georeferenceSources</th>\n",
              "      <th>samplingProtocol</th>\n",
              "      <th>methodQuantification</th>\n",
              "      <th>sourceAuthor</th>\n",
              "      <th>sourceYear</th>\n",
              "      <th>sourceTitle</th>\n",
              "      <th>sourceJournal</th>\n",
              "      <th>sourcePrimaryReference</th>\n",
              "      <th>sourceCollectionReference</th>\n",
              "    </tr>\n",
              "  </thead>\n",
              "  <tbody>\n",
              "    <tr>\n",
              "      <th>0</th>\n",
              "      <td>1</td>\n",
              "      <td>Carnivora</td>\n",
              "      <td>Felidae</td>\n",
              "      <td>Acinonyx_jubatus</td>\n",
              "      <td>Cheetah</td>\n",
              "      <td>Both</td>\n",
              "      <td>Unspecified</td>\n",
              "      <td>Mammal</td>\n",
              "      <td>Cetartiodactyla</td>\n",
              "      <td>Bovidae</td>\n",
              "      <td>...</td>\n",
              "      <td>29.046635</td>\n",
              "      <td>GoogleMaps</td>\n",
              "      <td>Scat</td>\n",
              "      <td>Occurrence in source (%)</td>\n",
              "      <td>Craig, C</td>\n",
              "      <td>2017</td>\n",
              "      <td>A record of cheetah (Acinonyx jubatus) diet in...</td>\n",
              "      <td>African Journal of Ecology</td>\n",
              "      <td>Craig, Christie A., Eleanor I. Brassine, and D...</td>\n",
              "      <td>Craig, Christie A., Eleanor I. Brassine, and D...</td>\n",
              "    </tr>\n",
              "    <tr>\n",
              "      <th>1</th>\n",
              "      <td>2</td>\n",
              "      <td>Carnivora</td>\n",
              "      <td>Felidae</td>\n",
              "      <td>Acinonyx_jubatus</td>\n",
              "      <td>Cheetah</td>\n",
              "      <td>Both</td>\n",
              "      <td>Unspecified</td>\n",
              "      <td>Mammal</td>\n",
              "      <td>Cetartiodactyla</td>\n",
              "      <td>Bovidae</td>\n",
              "      <td>...</td>\n",
              "      <td>29.046635</td>\n",
              "      <td>GoogleMaps</td>\n",
              "      <td>Scat</td>\n",
              "      <td>Occurrence in source (%)</td>\n",
              "      <td>Craig, C</td>\n",
              "      <td>2017</td>\n",
              "      <td>A record of cheetah (Acinonyx jubatus) diet in...</td>\n",
              "      <td>African Journal of Ecology</td>\n",
              "      <td>Craig, Christie A., Eleanor I. Brassine, and D...</td>\n",
              "      <td>Craig, Christie A., Eleanor I. Brassine, and D...</td>\n",
              "    </tr>\n",
              "    <tr>\n",
              "      <th>2</th>\n",
              "      <td>3</td>\n",
              "      <td>Carnivora</td>\n",
              "      <td>Felidae</td>\n",
              "      <td>Acinonyx_jubatus</td>\n",
              "      <td>Cheetah</td>\n",
              "      <td>Both</td>\n",
              "      <td>Unspecified</td>\n",
              "      <td>Mammal</td>\n",
              "      <td>Cetartiodactyla</td>\n",
              "      <td>Bovidae</td>\n",
              "      <td>...</td>\n",
              "      <td>29.046635</td>\n",
              "      <td>GoogleMaps</td>\n",
              "      <td>Scat</td>\n",
              "      <td>Occurrence in source (%)</td>\n",
              "      <td>Craig, C</td>\n",
              "      <td>2017</td>\n",
              "      <td>A record of cheetah (Acinonyx jubatus) diet in...</td>\n",
              "      <td>African Journal of Ecology</td>\n",
              "      <td>Craig, Christie A., Eleanor I. Brassine, and D...</td>\n",
              "      <td>Craig, Christie A., Eleanor I. Brassine, and D...</td>\n",
              "    </tr>\n",
              "    <tr>\n",
              "      <th>3</th>\n",
              "      <td>4</td>\n",
              "      <td>Carnivora</td>\n",
              "      <td>Felidae</td>\n",
              "      <td>Acinonyx_jubatus</td>\n",
              "      <td>Cheetah</td>\n",
              "      <td>Both</td>\n",
              "      <td>Unspecified</td>\n",
              "      <td>Mammal</td>\n",
              "      <td>Perissodactyla</td>\n",
              "      <td>Equidae</td>\n",
              "      <td>...</td>\n",
              "      <td>29.046635</td>\n",
              "      <td>GoogleMaps</td>\n",
              "      <td>Scat</td>\n",
              "      <td>Occurrence in source (%)</td>\n",
              "      <td>Craig, C</td>\n",
              "      <td>2017</td>\n",
              "      <td>A record of cheetah (Acinonyx jubatus) diet in...</td>\n",
              "      <td>African Journal of Ecology</td>\n",
              "      <td>Craig, Christie A., Eleanor I. Brassine, and D...</td>\n",
              "      <td>Craig, Christie A., Eleanor I. Brassine, and D...</td>\n",
              "    </tr>\n",
              "    <tr>\n",
              "      <th>4</th>\n",
              "      <td>5</td>\n",
              "      <td>Carnivora</td>\n",
              "      <td>Felidae</td>\n",
              "      <td>Acinonyx_jubatus</td>\n",
              "      <td>Cheetah</td>\n",
              "      <td>Both</td>\n",
              "      <td>Unspecified</td>\n",
              "      <td>Mammal</td>\n",
              "      <td>Cetartiodactyla</td>\n",
              "      <td>Bovidae</td>\n",
              "      <td>...</td>\n",
              "      <td>29.046635</td>\n",
              "      <td>GoogleMaps</td>\n",
              "      <td>Scat</td>\n",
              "      <td>Occurrence in source (%)</td>\n",
              "      <td>Craig, C</td>\n",
              "      <td>2017</td>\n",
              "      <td>A record of cheetah (Acinonyx jubatus) diet in...</td>\n",
              "      <td>African Journal of Ecology</td>\n",
              "      <td>Craig, Christie A., Eleanor I. Brassine, and D...</td>\n",
              "      <td>Craig, Christie A., Eleanor I. Brassine, and D...</td>\n",
              "    </tr>\n",
              "    <tr>\n",
              "      <th>...</th>\n",
              "      <td>...</td>\n",
              "      <td>...</td>\n",
              "      <td>...</td>\n",
              "      <td>...</td>\n",
              "      <td>...</td>\n",
              "      <td>...</td>\n",
              "      <td>...</td>\n",
              "      <td>...</td>\n",
              "      <td>...</td>\n",
              "      <td>...</td>\n",
              "      <td>...</td>\n",
              "      <td>...</td>\n",
              "      <td>...</td>\n",
              "      <td>...</td>\n",
              "      <td>...</td>\n",
              "      <td>...</td>\n",
              "      <td>...</td>\n",
              "      <td>...</td>\n",
              "      <td>...</td>\n",
              "      <td>...</td>\n",
              "      <td>...</td>\n",
              "    </tr>\n",
              "    <tr>\n",
              "      <th>29116</th>\n",
              "      <td>29117</td>\n",
              "      <td>Carnivora</td>\n",
              "      <td>Canidae</td>\n",
              "      <td>Vulpes_zerda</td>\n",
              "      <td>Fennec fox</td>\n",
              "      <td>Both</td>\n",
              "      <td>Unspecified</td>\n",
              "      <td>Mammal</td>\n",
              "      <td>Rodentia</td>\n",
              "      <td>Dipodidae</td>\n",
              "      <td>...</td>\n",
              "      <td>10.344028</td>\n",
              "      <td>Reported</td>\n",
              "      <td>Scat</td>\n",
              "      <td>Volume in source (%)</td>\n",
              "      <td>Karssene, Y</td>\n",
              "      <td>2019</td>\n",
              "      <td>Spatial and temporal variability in the distri...</td>\n",
              "      <td>Mammalian Biology</td>\n",
              "      <td>Karssene, Yamna, et al. \"Spatial and temporal ...</td>\n",
              "      <td>Karssene, Yamna, et al. \"Spatial and temporal ...</td>\n",
              "    </tr>\n",
              "    <tr>\n",
              "      <th>29117</th>\n",
              "      <td>29118</td>\n",
              "      <td>Carnivora</td>\n",
              "      <td>Canidae</td>\n",
              "      <td>Vulpes_zerda</td>\n",
              "      <td>Fennec fox</td>\n",
              "      <td>Both</td>\n",
              "      <td>Unspecified</td>\n",
              "      <td>Plant</td>\n",
              "      <td>NaN</td>\n",
              "      <td>NaN</td>\n",
              "      <td>...</td>\n",
              "      <td>10.344028</td>\n",
              "      <td>Reported</td>\n",
              "      <td>Scat</td>\n",
              "      <td>Volume in source (%)</td>\n",
              "      <td>Karssene, Y</td>\n",
              "      <td>2019</td>\n",
              "      <td>Spatial and temporal variability in the distri...</td>\n",
              "      <td>Mammalian Biology</td>\n",
              "      <td>Karssene, Yamna, et al. \"Spatial and temporal ...</td>\n",
              "      <td>Karssene, Yamna, et al. \"Spatial and temporal ...</td>\n",
              "    </tr>\n",
              "    <tr>\n",
              "      <th>29118</th>\n",
              "      <td>29119</td>\n",
              "      <td>Carnivora</td>\n",
              "      <td>Canidae</td>\n",
              "      <td>Vulpes_zerda</td>\n",
              "      <td>Fennec fox</td>\n",
              "      <td>Both</td>\n",
              "      <td>Unspecified</td>\n",
              "      <td>Bird</td>\n",
              "      <td>NaN</td>\n",
              "      <td>NaN</td>\n",
              "      <td>...</td>\n",
              "      <td>10.344028</td>\n",
              "      <td>Reported</td>\n",
              "      <td>Scat</td>\n",
              "      <td>Volume in source (%)</td>\n",
              "      <td>Karssene, Y</td>\n",
              "      <td>2019</td>\n",
              "      <td>Spatial and temporal variability in the distri...</td>\n",
              "      <td>Mammalian Biology</td>\n",
              "      <td>Karssene, Yamna, et al. \"Spatial and temporal ...</td>\n",
              "      <td>Karssene, Yamna, et al. \"Spatial and temporal ...</td>\n",
              "    </tr>\n",
              "    <tr>\n",
              "      <th>29119</th>\n",
              "      <td>29120</td>\n",
              "      <td>Carnivora</td>\n",
              "      <td>Canidae</td>\n",
              "      <td>Vulpes_zerda</td>\n",
              "      <td>Fennec fox</td>\n",
              "      <td>Both</td>\n",
              "      <td>Unspecified</td>\n",
              "      <td>Mammal</td>\n",
              "      <td>Rodentia</td>\n",
              "      <td>Dipodidae</td>\n",
              "      <td>...</td>\n",
              "      <td>10.344028</td>\n",
              "      <td>Reported</td>\n",
              "      <td>Scat</td>\n",
              "      <td>Volume in source (%)</td>\n",
              "      <td>Karssene, Y</td>\n",
              "      <td>2019</td>\n",
              "      <td>Spatial and temporal variability in the distri...</td>\n",
              "      <td>Mammalian Biology</td>\n",
              "      <td>Karssene, Yamna, et al. \"Spatial and temporal ...</td>\n",
              "      <td>Karssene, Yamna, et al. \"Spatial and temporal ...</td>\n",
              "    </tr>\n",
              "    <tr>\n",
              "      <th>29120</th>\n",
              "      <td>29121</td>\n",
              "      <td>Carnivora</td>\n",
              "      <td>Canidae</td>\n",
              "      <td>Vulpes_zerda</td>\n",
              "      <td>Fennec fox</td>\n",
              "      <td>Both</td>\n",
              "      <td>Unspecified</td>\n",
              "      <td>Mammal</td>\n",
              "      <td>Rodentia</td>\n",
              "      <td>Muridae</td>\n",
              "      <td>...</td>\n",
              "      <td>10.344028</td>\n",
              "      <td>Reported</td>\n",
              "      <td>Scat</td>\n",
              "      <td>Volume in source (%)</td>\n",
              "      <td>Karssene, Y</td>\n",
              "      <td>2019</td>\n",
              "      <td>Spatial and temporal variability in the distri...</td>\n",
              "      <td>Mammalian Biology</td>\n",
              "      <td>Karssene, Yamna, et al. \"Spatial and temporal ...</td>\n",
              "      <td>Karssene, Yamna, et al. \"Spatial and temporal ...</td>\n",
              "    </tr>\n",
              "  </tbody>\n",
              "</table>\n",
              "<p>29121 rows × 53 columns</p>\n",
              "</div>\n",
              "      <button class=\"colab-df-convert\" onclick=\"convertToInteractive('df-2532e5f8-359a-4215-957a-0e2e16eade66')\"\n",
              "              title=\"Convert this dataframe to an interactive table.\"\n",
              "              style=\"display:none;\">\n",
              "        \n",
              "  <svg xmlns=\"http://www.w3.org/2000/svg\" height=\"24px\"viewBox=\"0 0 24 24\"\n",
              "       width=\"24px\">\n",
              "    <path d=\"M0 0h24v24H0V0z\" fill=\"none\"/>\n",
              "    <path d=\"M18.56 5.44l.94 2.06.94-2.06 2.06-.94-2.06-.94-.94-2.06-.94 2.06-2.06.94zm-11 1L8.5 8.5l.94-2.06 2.06-.94-2.06-.94L8.5 2.5l-.94 2.06-2.06.94zm10 10l.94 2.06.94-2.06 2.06-.94-2.06-.94-.94-2.06-.94 2.06-2.06.94z\"/><path d=\"M17.41 7.96l-1.37-1.37c-.4-.4-.92-.59-1.43-.59-.52 0-1.04.2-1.43.59L10.3 9.45l-7.72 7.72c-.78.78-.78 2.05 0 2.83L4 21.41c.39.39.9.59 1.41.59.51 0 1.02-.2 1.41-.59l7.78-7.78 2.81-2.81c.8-.78.8-2.07 0-2.86zM5.41 20L4 18.59l7.72-7.72 1.47 1.35L5.41 20z\"/>\n",
              "  </svg>\n",
              "      </button>\n",
              "      \n",
              "  <style>\n",
              "    .colab-df-container {\n",
              "      display:flex;\n",
              "      flex-wrap:wrap;\n",
              "      gap: 12px;\n",
              "    }\n",
              "\n",
              "    .colab-df-convert {\n",
              "      background-color: #E8F0FE;\n",
              "      border: none;\n",
              "      border-radius: 50%;\n",
              "      cursor: pointer;\n",
              "      display: none;\n",
              "      fill: #1967D2;\n",
              "      height: 32px;\n",
              "      padding: 0 0 0 0;\n",
              "      width: 32px;\n",
              "    }\n",
              "\n",
              "    .colab-df-convert:hover {\n",
              "      background-color: #E2EBFA;\n",
              "      box-shadow: 0px 1px 2px rgba(60, 64, 67, 0.3), 0px 1px 3px 1px rgba(60, 64, 67, 0.15);\n",
              "      fill: #174EA6;\n",
              "    }\n",
              "\n",
              "    [theme=dark] .colab-df-convert {\n",
              "      background-color: #3B4455;\n",
              "      fill: #D2E3FC;\n",
              "    }\n",
              "\n",
              "    [theme=dark] .colab-df-convert:hover {\n",
              "      background-color: #434B5C;\n",
              "      box-shadow: 0px 1px 3px 1px rgba(0, 0, 0, 0.15);\n",
              "      filter: drop-shadow(0px 1px 2px rgba(0, 0, 0, 0.3));\n",
              "      fill: #FFFFFF;\n",
              "    }\n",
              "  </style>\n",
              "\n",
              "      <script>\n",
              "        const buttonEl =\n",
              "          document.querySelector('#df-2532e5f8-359a-4215-957a-0e2e16eade66 button.colab-df-convert');\n",
              "        buttonEl.style.display =\n",
              "          google.colab.kernel.accessAllowed ? 'block' : 'none';\n",
              "\n",
              "        async function convertToInteractive(key) {\n",
              "          const element = document.querySelector('#df-2532e5f8-359a-4215-957a-0e2e16eade66');\n",
              "          const dataTable =\n",
              "            await google.colab.kernel.invokeFunction('convertToInteractive',\n",
              "                                                     [key], {});\n",
              "          if (!dataTable) return;\n",
              "\n",
              "          const docLinkHtml = 'Like what you see? Visit the ' +\n",
              "            '<a target=\"_blank\" href=https://colab.research.google.com/notebooks/data_table.ipynb>data table notebook</a>'\n",
              "            + ' to learn more about interactive tables.';\n",
              "          element.innerHTML = '';\n",
              "          dataTable['output_type'] = 'display_data';\n",
              "          await google.colab.output.renderOutput(dataTable, element);\n",
              "          const docLink = document.createElement('div');\n",
              "          docLink.innerHTML = docLinkHtml;\n",
              "          element.appendChild(docLink);\n",
              "        }\n",
              "      </script>\n",
              "    </div>\n",
              "  </div>\n",
              "  "
            ]
          },
          "metadata": {},
          "execution_count": 6
        }
      ],
      "source": [
        "import pandas as pd\n",
        "df = pd.read_csv('/content/carnivorous_diet.csv',encoding='cp1252')\n",
        "df"
      ]
    },
    {
      "cell_type": "markdown",
      "source": [
        "01) Título do Dataset;"
      ],
      "metadata": {
        "id": "MfRavRBlij1t"
      }
    },
    {
      "cell_type": "markdown",
      "source": [
        "R01: Dieta de carnívoros"
      ],
      "metadata": {
        "id": "BXE20jeGi06E"
      }
    },
    {
      "cell_type": "markdown",
      "source": [
        "02) Breve descrição;"
      ],
      "metadata": {
        "id": "hZzlHSIMijiG"
      }
    },
    {
      "cell_type": "markdown",
      "source": [
        "R02: Dataframe mostrando a dieta de animais carnívoros, a família a que pertencem, os animais que devoram, o seu sexo, o ano da tabela, onde estão localizados, nomes científicos etc.."
      ],
      "metadata": {
        "id": "Padilgl-i8E8"
      }
    },
    {
      "cell_type": "markdown",
      "source": [
        "03) Tamanho;\n"
      ],
      "metadata": {
        "id": "P3qicK9ojvdM"
      }
    },
    {
      "cell_type": "code",
      "source": [
        "print(f'O dataframe possui {len(df)} linhas')"
      ],
      "metadata": {
        "colab": {
          "base_uri": "https://localhost:8080/"
        },
        "id": "qMuhpgtAjyJ1",
        "outputId": "94207bbc-1a7f-47d0-c424-b867ccf564c0"
      },
      "execution_count": null,
      "outputs": [
        {
          "output_type": "stream",
          "name": "stdout",
          "text": [
            "O dataframe possui 29121 linhas\n"
          ]
        }
      ]
    },
    {
      "cell_type": "markdown",
      "source": [
        "04) Extensão;"
      ],
      "metadata": {
        "id": "EVoEWXVeijQ9"
      }
    },
    {
      "cell_type": "markdown",
      "source": [
        "R04: A extensão do dataframe é .csv"
      ],
      "metadata": {
        "id": "d-UxNIlWlPTU"
      }
    },
    {
      "cell_type": "markdown",
      "source": [
        "05) Descrição das colunas existentes (nome, descrição, tipo, faixa de valores, etc);\n"
      ],
      "metadata": {
        "id": "DZ805IGeijAe"
      }
    },
    {
      "cell_type": "markdown",
      "source": [
        "R05: familyCarni = Essa coluna mostra a qual família pertence aquele animal.\n",
        "\n",
        "scientificNameCarni = Mostra o nome científico do animal.\n",
        "\n",
        "commonNameCarni = Nome popular do animal.\n",
        "\n",
        "foodType = Tipo de alimentação"
      ],
      "metadata": {
        "id": "ZurBiVZjiiy-"
      }
    },
    {
      "cell_type": "markdown",
      "source": [
        "06) Quantidade de registros;"
      ],
      "metadata": {
        "id": "5r_AS-U9iiIe"
      }
    },
    {
      "cell_type": "code",
      "source": [
        "print(f'O dataframe possui {len(df)} registros')"
      ],
      "metadata": {
        "colab": {
          "base_uri": "https://localhost:8080/"
        },
        "id": "ItZnB_9NiiAt",
        "outputId": "18f6ef33-e1ab-4248-cd45-d28383f549c8"
      },
      "execution_count": null,
      "outputs": [
        {
          "output_type": "stream",
          "name": "stdout",
          "text": [
            "O dataframe possui 29121 registros\n"
          ]
        }
      ]
    },
    {
      "cell_type": "markdown",
      "source": [
        "07) Extraia pelo menos 5 afirmações (insights) sobre os dados. Ex: Numa base de futebol: qual time marcou mais gols, qual time foi o mais vitorioso, qual time com a maior média de gols, etc."
      ],
      "metadata": {
        "id": "CbTV0J6Dih4l"
      }
    },
    {
      "cell_type": "code",
      "source": [
        "a = df['commonNameCarni'].value_counts().head(1)\n",
        "b = df['foodType'].value_counts().head(1)\n",
        "c = df['familyPrey'].value_counts().head(1)\n",
        "d = df.groupby('sourceYear')['sourceYear'].count().sort_values(ascending = False).head(1)\n",
        "e = df.groupby('sourceAuthor')['sourceAuthor'].count().sort_values(ascending = False).head(1)\n",
        "print('O animal mais catalogado foi a raposa vermelha')\n",
        "print('Os animais mais predados pertencem a classe dos mamíferos')\n",
        "print('A familia animal mais predada foi a dos bovídeos')\n",
        "print('O ano com mais registros foi 2010')\n",
        "print('O autor com mais animais catalogados foi Sidorovich, V')"
      ],
      "metadata": {
        "colab": {
          "base_uri": "https://localhost:8080/"
        },
        "id": "eEV7nzUMihxG",
        "outputId": "f94bb580-537b-40c0-ea0d-925212796aca"
      },
      "execution_count": null,
      "outputs": [
        {
          "output_type": "stream",
          "name": "stdout",
          "text": [
            "O animal mais catalogado foi a raposa vermelha\n",
            "Os animais mais predados pertencem a classe dos mamíferos\n",
            "A familia animal mais predada foi a dos bovídeos\n",
            "O ano com mais registros foi 2010\n",
            "O autor com mais animais catalogados foi Sidorovich, V\n"
          ]
        }
      ]
    },
    {
      "cell_type": "code",
      "source": [
        "print(a)\n",
        "print(b)\n",
        "print(c)\n",
        "print(d)\n",
        "print(e)"
      ],
      "metadata": {
        "id": "FYIdu6GtsF4y"
      },
      "execution_count": null,
      "outputs": []
    },
    {
      "cell_type": "markdown",
      "source": [
        "08) Crie pelo menos 2 gráficos apresentando as informações de maior relevância no Dataset."
      ],
      "metadata": {
        "id": "QDy3o-Ehsr_C"
      }
    },
    {
      "cell_type": "code",
      "source": [
        "a = df.groupby('familyCarni')['familyCarni'].count()\n",
        "plt.figure(figsize=(25, 8))\n",
        "plt.plot(a)\n",
        "#Gráfico com as familias dos animais carnívoros catalogados e a quantidade de animais dessas familias"
      ],
      "metadata": {
        "colab": {
          "base_uri": "https://localhost:8080/",
          "height": 413
        },
        "id": "wDzNTXehsvMp",
        "outputId": "738b5bb8-3464-4fea-cb0c-e343ed04fe65"
      },
      "execution_count": null,
      "outputs": [
        {
          "output_type": "execute_result",
          "data": {
            "text/plain": [
              "[<matplotlib.lines.Line2D at 0x7f412d9ee810>]"
            ]
          },
          "metadata": {},
          "execution_count": 73
        },
        {
          "output_type": "display_data",
          "data": {
            "text/plain": [
              "<Figure size 1800x576 with 1 Axes>"
            ],
            "image/png": "[encoded data removed]"
          },
          "metadata": {
            "needs_background": "light"
          }
        }
      ]
    },
    {
      "cell_type": "code",
      "source": [
        "b = df.groupby('orderPrey')['orderPrey'].count()\n",
        "plt.figure(figsize=(25, 8))\n",
        "plt.plot(b)\n",
        "#Gráfico com as ordens de animais mais predados e o número de animais predados em cada uma"
      ],
      "metadata": {
        "colab": {
          "base_uri": "https://localhost:8080/",
          "height": 415
        },
        "id": "9h5gE88SvKcQ",
        "outputId": "bb5341cd-ec7e-4ce2-943c-79d04086087f"
      },
      "execution_count": null,
      "outputs": [
        {
          "output_type": "execute_result",
          "data": {
            "text/plain": [
              "[<matplotlib.lines.Line2D at 0x7f412dae9890>]"
            ]
          },
          "metadata": {},
          "execution_count": 72
        },
        {
          "output_type": "display_data",
          "data": {
            "text/plain": [
              "<Figure size 1800x576 with 1 Axes>"
            ],
            "image/png": "[encoded data removed]"
          },
          "metadata": {
            "needs_background": "light"
          }
        }
      ]
    }
  ]
}